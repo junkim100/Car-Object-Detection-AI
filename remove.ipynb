{
 "cells": [
  {
   "cell_type": "code",
   "execution_count": 1,
   "metadata": {},
   "outputs": [],
   "source": [
    "import os, time, random\n",
    "import numpy as np\n",
    "import pandas as pd\n",
    "import cv2\n",
    "from tqdm.auto import tqdm\n",
    "import shutil as sh\n",
    "import csv"
   ]
  },
  {
   "cell_type": "code",
   "execution_count": 2,
   "metadata": {},
   "outputs": [],
   "source": [
    "df = pd.read_csv('./data2/train_solution_bounding_boxes.csv')\n",
    "\n",
    "car_img = []\n",
    "for index, value in df['image'].items():\n",
    "    car_img.append(value)"
   ]
  },
  {
   "cell_type": "code",
   "execution_count": 3,
   "metadata": {},
   "outputs": [
    {
     "name": "stderr",
     "output_type": "stream",
     "text": [
      "100%|██████████| 1001/1001 [00:00<00:00, 14761.61it/s]\n"
     ]
    }
   ],
   "source": [
    "for img in tqdm(os.listdir('./data2/training_images')):\n",
    "    if img not in car_img:\n",
    "        os.remove('./data2/training_images/' + img)"
   ]
  }
 ],
 "metadata": {
  "interpreter": {
   "hash": "baa285821a8752bfc882d86be287656f4b65c77b0d6984d3512b254ad9cbbbca"
  },
  "kernelspec": {
   "display_name": "Python 3.9.7 ('base')",
   "language": "python",
   "name": "python3"
  },
  "language_info": {
   "codemirror_mode": {
    "name": "ipython",
    "version": 3
   },
   "file_extension": ".py",
   "mimetype": "text/x-python",
   "name": "python",
   "nbconvert_exporter": "python",
   "pygments_lexer": "ipython3",
   "version": "3.9.7"
  },
  "orig_nbformat": 4
 },
 "nbformat": 4,
 "nbformat_minor": 2
}
